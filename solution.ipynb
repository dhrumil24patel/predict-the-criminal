{
 "cells": [
  {
   "cell_type": "code",
   "execution_count": null,
   "metadata": {
    "collapsed": true
   },
   "outputs": [],
   "source": []
  },
  {
   "cell_type": "code",
   "execution_count": 43,
   "metadata": {},
   "outputs": [],
   "source": [
    "import numpy as np # linear algebra\n",
    "import pandas as pd # data processing, CSV file I/O (e.g. pd.read_csv)\n",
    "from subprocess import check_output\n",
    "from xgboost import XGBClassifier\n",
    "import xgboost as xgb\n",
    "\n",
    "from sklearn.ensemble import ExtraTreesClassifier\n",
    "from sklearn.model_selection import train_test_split, GridSearchCV\n",
    "from sklearn.svm import SVC\n",
    "from sklearn.metrics import precision_score\n",
    "from sklearn.cross_validation import *\n",
    "\n",
    "from catboost import Pool, CatBoostClassifier, cv, CatboostIpythonWidget\n",
    "\n",
    "from auto_ml import Predictor\n",
    "from auto_ml.utils_models import load_ml_model"
   ]
  },
  {
   "cell_type": "code",
   "execution_count": 2,
   "metadata": {
    "collapsed": true
   },
   "outputs": [],
   "source": [
    "test = pd.read_csv(\"./data/criminal_test.csv\")\n",
    "train= pd.read_csv(\"./data/criminal_train.csv\")"
   ]
  },
  {
   "cell_type": "code",
   "execution_count": 3,
   "metadata": {
    "collapsed": true
   },
   "outputs": [],
   "source": [
    "featuers = train.columns[train.columns != \"Criminal\"]\n",
    "X = train[featuers]\n",
    "Y = train['Criminal']\n",
    "list = ['PERID']"
   ]
  },
  {
   "cell_type": "code",
   "execution_count": 4,
   "metadata": {
    "collapsed": true
   },
   "outputs": [],
   "source": [
    "x = train.drop(list,axis=1)\n",
    "y = test.drop(list,axis=1)"
   ]
  },
  {
   "cell_type": "code",
   "execution_count": 5,
   "metadata": {
    "collapsed": true
   },
   "outputs": [],
   "source": [
    "list1 = ['TROUBUND']\n",
    "x = x.drop(list1,axis=1)\n",
    "y = y.drop(list1,axis=1)\n",
    "x = x.drop('Criminal',axis=1)"
   ]
  },
  {
   "cell_type": "code",
   "execution_count": 6,
   "metadata": {
    "collapsed": true
   },
   "outputs": [],
   "source": [
    "X_train, X_validation, y_train, y_validation = train_test_split(x, Y, train_size=0.85, random_state=1234)"
   ]
  },
  {
   "cell_type": "code",
   "execution_count": 40,
   "metadata": {},
   "outputs": [
    {
     "name": "stdout",
     "output_type": "stream",
     "text": [
      "Start cross validation\n",
      "Best number of trees = 82\n",
      "Fit on the trainingsdata\n",
      "Overall precision: 0.8649229666786098\n",
      "Predict the probabilities based on features in the test set\n"
     ]
    }
   ],
   "source": [
    "xgtrain = xgb.DMatrix(x, label=Y)\n",
    "clf = xgb.XGBClassifier(missing=9999999999,\n",
    "                max_depth = 7,\n",
    "                n_estimators=1000,\n",
    "                learning_rate=0.1, \n",
    "                nthread=4,\n",
    "                subsample=1.0,\n",
    "                colsample_bytree=0.5,\n",
    "                min_child_weight = 11,\n",
    "                seed=1301)\n",
    "xgb_param = clf.get_xgb_params()\n",
    "#do cross validation\n",
    "print ('Start cross validation')\n",
    "cvresult = xgb.cv(xgb_param, xgtrain, num_boost_round=5000, nfold=15, metrics=['map'],\n",
    "     early_stopping_rounds=50, stratified=True, seed=1301)\n",
    "print('Best number of trees = {}'.format(cvresult.shape[0]))\n",
    "# clf.set_params(n_estimators=cvresult.shape[0])\n",
    "print('Fit on the trainingsdata')\n",
    "clf.fit(x, Y, eval_metric='map')\n",
    "print('Overall precision:', precision_score(Y, clf.predict_proba(x)[:,1].round()))\n",
    "print('Predict the probabilities based on features in the test set')\n",
    "pred = clf.predict_proba(y, ntree_limit=cvresult.shape[0])"
   ]
  },
  {
   "cell_type": "code",
   "execution_count": 36,
   "metadata": {},
   "outputs": [
    {
     "name": "stdout",
     "output_type": "stream",
     "text": [
      "precision score  0.6266968325791855\n"
     ]
    }
   ],
   "source": [
    "model = xgb.XGBClassifier(missing=9999999999,\n",
    "                max_depth = 7,\n",
    "                n_estimators=1000,\n",
    "                learning_rate=0.1, \n",
    "                nthread=4,\n",
    "                subsample=1.0,\n",
    "                colsample_bytree=0.5,\n",
    "                min_child_weight = 11,\n",
    "                seed=1301)\n",
    "model.fit(X_train, y_train)\n",
    "# make predictions for test data\n",
    "y_pred = model.predict(X_validation)\n",
    "print('precision score ', precision_score(y_validation, y_pred))"
   ]
  },
  {
   "cell_type": "code",
   "execution_count": 29,
   "metadata": {},
   "outputs": [
    {
     "name": "stdout",
     "output_type": "stream",
     "text": [
      "precision score  0.6280623608017817\n"
     ]
    }
   ],
   "source": [
    "print('precision score ', precision_score(y_validation, y_pred))"
   ]
  },
  {
   "cell_type": "code",
   "execution_count": 41,
   "metadata": {
    "collapsed": true
   },
   "outputs": [],
   "source": [
    "create_submission(pred[:,1], 'blends/xgb_sub_prob_1.csv')"
   ]
  },
  {
   "cell_type": "code",
   "execution_count": 37,
   "metadata": {
    "collapsed": true
   },
   "outputs": [],
   "source": [
    "create_submission(clf.predict(y, ntree_limit=cvresult.shape[0]), 'xgb_sub_6.csv')"
   ]
  },
  {
   "cell_type": "code",
   "execution_count": 7,
   "metadata": {},
   "outputs": [
    {
     "name": "stdout",
     "output_type": "stream",
     "text": [
      "Fitting 4 folds for each of 48 candidates, totalling 192 fits\n"
     ]
    },
    {
     "name": "stderr",
     "output_type": "stream",
     "text": [
      "[Parallel(n_jobs=4)]: Done  24 tasks      | elapsed: 17.1min\n",
      "[Parallel(n_jobs=4)]: Done 120 tasks      | elapsed: 121.7min\n",
      "[Parallel(n_jobs=4)]: Done 192 out of 192 | elapsed: 200.5min finished\n"
     ]
    },
    {
     "name": "stdout",
     "output_type": "stream",
     "text": [
      "Raw precision score: 0.6382330582114011\n",
      "colsample_bytree: 0.7\n",
      "learning_rate: 0.1\n",
      "max_depth: 8\n",
      "min_child_weight: 11\n",
      "n_estimators: 1500\n",
      "nthread: 4\n",
      "objective: 'binary:logistic'\n",
      "seed: 1337\n",
      "subsample: 1.0\n"
     ]
    }
   ],
   "source": [
    "# xgb grid search cv\n",
    "xgb_model = xgb.XGBClassifier()\n",
    "parameters = {'nthread':[4], #when use hyperthread, xgboost may become slower\n",
    "              'objective':['binary:logistic'],\n",
    "              'learning_rate': [0.1, 0.15], #so called `eta` value\n",
    "              'max_depth': [8, 10, 12],\n",
    "              'min_child_weight': [11],\n",
    "              'subsample': [0.8, 1.0],\n",
    "              'colsample_bytree': [0.7, 0.9],\n",
    "              'n_estimators': [1500, 2000], #number of trees, change it to 1000 for better results\n",
    "              'seed': [1337]}\n",
    "clf = GridSearchCV(xgb_model, parameters, n_jobs=4, \n",
    "                   cv=StratifiedKFold(Y, n_folds=4, shuffle=True), \n",
    "                   scoring='precision',\n",
    "                   verbose=3, refit=True)\n",
    "clf.fit(x, Y)\n",
    "#trust your CV!\n",
    "best_parameters, score, _ = max(clf.grid_scores_, key=lambda x: x[1])\n",
    "print('Raw precision score:', score)\n",
    "for param_name in sorted(best_parameters.keys()):\n",
    "    print(\"%s: %r\" % (param_name, best_parameters[param_name]))\n",
    "test_probs = clf.predict_proba(y)[:,1]"
   ]
  },
  {
   "cell_type": "code",
   "execution_count": 10,
   "metadata": {},
   "outputs": [],
   "source": [
    "create_submission(clf.predict(y), 'xgb_sub_2.csv')"
   ]
  },
  {
   "cell_type": "code",
   "execution_count": 7,
   "metadata": {
    "scrolled": true
   },
   "outputs": [
    {
     "name": "stdout",
     "output_type": "stream",
     "text": [
      "Welcome to auto_ml! We're about to go through and make sense of your data using machine learning, and give you a production-ready pipeline to get predictions with.\n",
      "\n",
      "If you have any issues, or new feature ideas, let us know at http://auto.ml\n",
      "Now using the model training_params that you passed in:\n",
      "{'n_estimators': 2000, 'learning_rate': 0.2, 'num_leaves': 14, 'lambda_l2': 0.001, 'histogram_pool_size': 16384}\n",
      "After overwriting our defaults with your values, here are the final params that will be used to initialize the model:\n",
      "{'n_estimators': 2000, 'learning_rate': 0.2, 'num_leaves': 14, 'lambda_l2': 0.001, 'histogram_pool_size': 16384}\n",
      "Running basic data cleaning\n",
      "Fitting DataFrameVectorizer\n",
      "Now using the model training_params that you passed in:\n",
      "{'n_estimators': 2000, 'learning_rate': 0.2, 'num_leaves': 14, 'lambda_l2': 0.001, 'histogram_pool_size': 16384}\n",
      "After overwriting our defaults with your values, here are the final params that will be used to initialize the model:\n",
      "{'n_estimators': 2000, 'learning_rate': 0.2, 'num_leaves': 14, 'lambda_l2': 0.001, 'histogram_pool_size': 16384}\n",
      "\n",
      "\n",
      "********************************************************************************************"
     ]
    },
    {
     "name": "stderr",
     "output_type": "stream",
     "text": [
      "C:\\Anaconda3\\envs\\ml\\lib\\site-packages\\lightgbm\\basic.py:1029: UserWarning: categorical_feature in Dataset is overrided. New categorical_feature is []\n",
      "  warnings.warn('categorical_feature in Dataset is overrided. New categorical_feature is {}'.format(sorted(list(categorical_feature))))\n"
     ]
    },
    {
     "name": "stdout",
     "output_type": "stream",
     "text": [
      "\n",
      "About to fit the pipeline for the model LGBMClassifier to predict Criminal\n",
      "Started at:\n",
      "2018-02-14 11:09:28\n",
      "[1]\trandom_holdout_set_from_training_data's binary_logloss: 0.537298\n",
      "Training until validation scores don't improve for 100 rounds.\n",
      "[2]\trandom_holdout_set_from_training_data's binary_logloss: 0.43279\n",
      "[3]\trandom_holdout_set_from_training_data's binary_logloss: 0.358397\n",
      "[4]\trandom_holdout_set_from_training_data's binary_logloss: 0.303341\n",
      "[5]\trandom_holdout_set_from_training_data's binary_logloss: 0.261447\n",
      "[6]\trandom_holdout_set_from_training_data's binary_logloss: 0.229257\n",
      "[7]\trandom_holdout_set_from_training_data's binary_logloss: 0.204261\n",
      "[8]\trandom_holdout_set_from_training_data's binary_logloss: 0.184633\n",
      "[9]\trandom_holdout_set_from_training_data's binary_logloss: 0.168907\n",
      "[10]\trandom_holdout_set_from_training_data's binary_logloss: 0.156355\n",
      "[11]\trandom_holdout_set_from_training_data's binary_logloss: 0.146202\n",
      "[12]\trandom_holdout_set_from_training_data's binary_logloss: 0.13817\n",
      "[13]\trandom_holdout_set_from_training_data's binary_logloss: 0.13179\n",
      "[14]\trandom_holdout_set_from_training_data's binary_logloss: 0.126654\n",
      "[15]\trandom_holdout_set_from_training_data's binary_logloss: 0.122448\n",
      "[16]\trandom_holdout_set_from_training_data's binary_logloss: 0.119184\n",
      "[17]\trandom_holdout_set_from_training_data's binary_logloss: 0.116531\n",
      "[18]\trandom_holdout_set_from_training_data's binary_logloss: 0.114106\n",
      "[19]\trandom_holdout_set_from_training_data's binary_logloss: 0.112236\n",
      "[20]\trandom_holdout_set_from_training_data's binary_logloss: 0.110647\n",
      "[21]\trandom_holdout_set_from_training_data's binary_logloss: 0.109559\n",
      "[22]\trandom_holdout_set_from_training_data's binary_logloss: 0.108693\n",
      "[23]\trandom_holdout_set_from_training_data's binary_logloss: 0.107884\n",
      "[24]\trandom_holdout_set_from_training_data's binary_logloss: 0.107189\n",
      "[25]\trandom_holdout_set_from_training_data's binary_logloss: 0.106736\n",
      "[26]\trandom_holdout_set_from_training_data's binary_logloss: 0.106525\n",
      "[27]\trandom_holdout_set_from_training_data's binary_logloss: 0.106072\n",
      "[28]\trandom_holdout_set_from_training_data's binary_logloss: 0.105901\n",
      "[29]\trandom_holdout_set_from_training_data's binary_logloss: 0.10563\n",
      "[30]\trandom_holdout_set_from_training_data's binary_logloss: 0.105416\n",
      "[31]\trandom_holdout_set_from_training_data's binary_logloss: 0.105021\n",
      "[32]\trandom_holdout_set_from_training_data's binary_logloss: 0.104945\n",
      "[33]\trandom_holdout_set_from_training_data's binary_logloss: 0.104838\n",
      "[34]\trandom_holdout_set_from_training_data's binary_logloss: 0.104626\n",
      "[35]\trandom_holdout_set_from_training_data's binary_logloss: 0.104551\n",
      "[36]\trandom_holdout_set_from_training_data's binary_logloss: 0.10451\n",
      "[37]\trandom_holdout_set_from_training_data's binary_logloss: 0.104436\n",
      "[38]\trandom_holdout_set_from_training_data's binary_logloss: 0.104469\n",
      "[39]\trandom_holdout_set_from_training_data's binary_logloss: 0.104408\n",
      "[40]\trandom_holdout_set_from_training_data's binary_logloss: 0.104396\n",
      "[41]\trandom_holdout_set_from_training_data's binary_logloss: 0.104439\n",
      "[42]\trandom_holdout_set_from_training_data's binary_logloss: 0.104471\n",
      "[43]\trandom_holdout_set_from_training_data's binary_logloss: 0.104403\n",
      "[44]\trandom_holdout_set_from_training_data's binary_logloss: 0.104409\n",
      "[45]\trandom_holdout_set_from_training_data's binary_logloss: 0.104458\n",
      "[46]\trandom_holdout_set_from_training_data's binary_logloss: 0.104455\n",
      "[47]\trandom_holdout_set_from_training_data's binary_logloss: 0.10454\n",
      "[48]\trandom_holdout_set_from_training_data's binary_logloss: 0.104517\n",
      "[49]\trandom_holdout_set_from_training_data's binary_logloss: 0.104473\n",
      "[50]\trandom_holdout_set_from_training_data's binary_logloss: 0.104557\n",
      "[51]\trandom_holdout_set_from_training_data's binary_logloss: 0.104536\n",
      "[52]\trandom_holdout_set_from_training_data's binary_logloss: 0.104713\n",
      "[53]\trandom_holdout_set_from_training_data's binary_logloss: 0.104764\n",
      "[54]\trandom_holdout_set_from_training_data's binary_logloss: 0.104864\n",
      "[55]\trandom_holdout_set_from_training_data's binary_logloss: 0.104856\n",
      "[56]\trandom_holdout_set_from_training_data's binary_logloss: 0.104878\n",
      "[57]\trandom_holdout_set_from_training_data's binary_logloss: 0.104714\n",
      "[58]\trandom_holdout_set_from_training_data's binary_logloss: 0.104739\n",
      "[59]\trandom_holdout_set_from_training_data's binary_logloss: 0.10465\n",
      "[60]\trandom_holdout_set_from_training_data's binary_logloss: 0.104573\n",
      "[61]\trandom_holdout_set_from_training_data's binary_logloss: 0.104644\n",
      "[62]\trandom_holdout_set_from_training_data's binary_logloss: 0.10477\n",
      "[63]\trandom_holdout_set_from_training_data's binary_logloss: 0.104755\n",
      "[64]\trandom_holdout_set_from_training_data's binary_logloss: 0.104733\n",
      "[65]\trandom_holdout_set_from_training_data's binary_logloss: 0.105023\n",
      "[66]\trandom_holdout_set_from_training_data's binary_logloss: 0.104894\n",
      "[67]\trandom_holdout_set_from_training_data's binary_logloss: 0.104923\n",
      "[68]\trandom_holdout_set_from_training_data's binary_logloss: 0.104977\n",
      "[69]\trandom_holdout_set_from_training_data's binary_logloss: 0.104995\n",
      "[70]\trandom_holdout_set_from_training_data's binary_logloss: 0.105093\n",
      "[71]\trandom_holdout_set_from_training_data's binary_logloss: 0.105048\n",
      "[72]\trandom_holdout_set_from_training_data's binary_logloss: 0.10505\n",
      "[73]\trandom_holdout_set_from_training_data's binary_logloss: 0.105136\n",
      "[74]\trandom_holdout_set_from_training_data's binary_logloss: 0.105192\n",
      "[75]\trandom_holdout_set_from_training_data's binary_logloss: 0.105382\n",
      "[76]\trandom_holdout_set_from_training_data's binary_logloss: 0.105373\n",
      "[77]\trandom_holdout_set_from_training_data's binary_logloss: 0.105493\n",
      "[78]\trandom_holdout_set_from_training_data's binary_logloss: 0.105637\n",
      "[79]\trandom_holdout_set_from_training_data's binary_logloss: 0.105565\n",
      "[80]\trandom_holdout_set_from_training_data's binary_logloss: 0.105425\n",
      "[81]\trandom_holdout_set_from_training_data's binary_logloss: 0.105471\n",
      "[82]\trandom_holdout_set_from_training_data's binary_logloss: 0.105261\n",
      "[83]\trandom_holdout_set_from_training_data's binary_logloss: 0.105171\n",
      "[84]\trandom_holdout_set_from_training_data's binary_logloss: 0.105209\n",
      "[85]\trandom_holdout_set_from_training_data's binary_logloss: 0.105267\n",
      "[86]\trandom_holdout_set_from_training_data's binary_logloss: 0.105226\n",
      "[87]\trandom_holdout_set_from_training_data's binary_logloss: 0.105344\n",
      "[88]\trandom_holdout_set_from_training_data's binary_logloss: 0.105435\n",
      "[89]\trandom_holdout_set_from_training_data's binary_logloss: 0.105486\n",
      "[90]\trandom_holdout_set_from_training_data's binary_logloss: 0.105417\n",
      "[91]\trandom_holdout_set_from_training_data's binary_logloss: 0.105426\n",
      "[92]\trandom_holdout_set_from_training_data's binary_logloss: 0.105369\n",
      "[93]\trandom_holdout_set_from_training_data's binary_logloss: 0.105453\n",
      "[94]\trandom_holdout_set_from_training_data's binary_logloss: 0.10551\n",
      "[95]\trandom_holdout_set_from_training_data's binary_logloss: 0.105752\n",
      "[96]\trandom_holdout_set_from_training_data's binary_logloss: 0.105701\n",
      "[97]\trandom_holdout_set_from_training_data's binary_logloss: 0.105674\n",
      "[98]\trandom_holdout_set_from_training_data's binary_logloss: 0.105715\n",
      "[99]\trandom_holdout_set_from_training_data's binary_logloss: 0.105695\n",
      "[100]\trandom_holdout_set_from_training_data's binary_logloss: 0.105702\n",
      "[101]\trandom_holdout_set_from_training_data's binary_logloss: 0.105633\n",
      "[102]\trandom_holdout_set_from_training_data's binary_logloss: 0.105687\n",
      "[103]\trandom_holdout_set_from_training_data's binary_logloss: 0.105746\n",
      "[104]\trandom_holdout_set_from_training_data's binary_logloss: 0.105913\n",
      "[105]\trandom_holdout_set_from_training_data's binary_logloss: 0.105987\n",
      "[106]\trandom_holdout_set_from_training_data's binary_logloss: 0.106017\n",
      "[107]\trandom_holdout_set_from_training_data's binary_logloss: 0.106253\n",
      "[108]\trandom_holdout_set_from_training_data's binary_logloss: 0.106247\n",
      "[109]\trandom_holdout_set_from_training_data's binary_logloss: 0.106254\n",
      "[110]\trandom_holdout_set_from_training_data's binary_logloss: 0.106264\n",
      "[111]\trandom_holdout_set_from_training_data's binary_logloss: 0.10631\n",
      "[112]\trandom_holdout_set_from_training_data's binary_logloss: 0.106517\n",
      "[113]\trandom_holdout_set_from_training_data's binary_logloss: 0.106579\n",
      "[114]\trandom_holdout_set_from_training_data's binary_logloss: 0.106536\n",
      "[115]\trandom_holdout_set_from_training_data's binary_logloss: 0.106532\n",
      "[116]\trandom_holdout_set_from_training_data's binary_logloss: 0.106652\n",
      "[117]\trandom_holdout_set_from_training_data's binary_logloss: 0.106551\n",
      "[118]\trandom_holdout_set_from_training_data's binary_logloss: 0.106563\n",
      "[119]\trandom_holdout_set_from_training_data's binary_logloss: 0.106474\n",
      "[120]\trandom_holdout_set_from_training_data's binary_logloss: 0.106577\n",
      "[121]\trandom_holdout_set_from_training_data's binary_logloss: 0.106599\n",
      "[122]\trandom_holdout_set_from_training_data's binary_logloss: 0.106711\n",
      "[123]\trandom_holdout_set_from_training_data's binary_logloss: 0.106865\n",
      "[124]\trandom_holdout_set_from_training_data's binary_logloss: 0.107066\n",
      "[125]\trandom_holdout_set_from_training_data's binary_logloss: 0.107226\n",
      "[126]\trandom_holdout_set_from_training_data's binary_logloss: 0.107144\n",
      "[127]\trandom_holdout_set_from_training_data's binary_logloss: 0.107109\n",
      "[128]\trandom_holdout_set_from_training_data's binary_logloss: 0.107152\n",
      "[129]\trandom_holdout_set_from_training_data's binary_logloss: 0.107193\n",
      "[130]\trandom_holdout_set_from_training_data's binary_logloss: 0.107153\n",
      "[131]\trandom_holdout_set_from_training_data's binary_logloss: 0.107162\n",
      "[132]\trandom_holdout_set_from_training_data's binary_logloss: 0.107237\n",
      "[133]\trandom_holdout_set_from_training_data's binary_logloss: 0.107125\n",
      "[134]\trandom_holdout_set_from_training_data's binary_logloss: 0.107035\n",
      "[135]\trandom_holdout_set_from_training_data's binary_logloss: 0.10713\n",
      "[136]\trandom_holdout_set_from_training_data's binary_logloss: 0.107116\n",
      "[137]\trandom_holdout_set_from_training_data's binary_logloss: 0.107132\n",
      "[138]\trandom_holdout_set_from_training_data's binary_logloss: 0.106925\n",
      "[139]\trandom_holdout_set_from_training_data's binary_logloss: 0.107026\n",
      "[140]\trandom_holdout_set_from_training_data's binary_logloss: 0.107229\n",
      "Early stopping, best iteration is:\n",
      "[40]\trandom_holdout_set_from_training_data's binary_logloss: 0.104396\n",
      "Finished training the pipeline!\n",
      "Total training time:\n",
      "0:00:01\n",
      "\n",
      "\n",
      "Here are the results from our LGBMClassifier\n",
      "predicting Criminal\n",
      "Calculating feature responses, for advanced analytics.\n"
     ]
    },
    {
     "name": "stderr",
     "output_type": "stream",
     "text": [
      "C:\\Anaconda3\\envs\\ml\\lib\\site-packages\\sklearn\\model_selection\\_split.py:2026: FutureWarning: From version 0.21, test_size will always complement train_size unless both are specified.\n",
      "  FutureWarning)\n"
     ]
    },
    {
     "name": "stdout",
     "output_type": "stream",
     "text": [
      "The printed list will only contain at most the top 100 features.\n",
      "+---------+----------------+--------------+---------------+-------------------+-------------------+-----------+-----------+-----------+-----------+\n",
      "|         | Feature Name   |   Importance |         Delta |   FR_Decrementing |   FR_Incrementing |   FRD_abs |   FRI_abs |   FRD_MAD |   FRI_MAD |\n",
      "|---------+----------------+--------------+---------------+-------------------+-------------------+-----------+-----------+-----------+-----------|\n",
      "| 35.0000 | IIOTHHLT       |            0 |        1.3921 |            0.0000 |            0.0000 |    0.0000 |    0.0000 |    0.0000 |    0.0000 |\n",
      "| 23.0000 | HLNVREF        |            0 |        6.4796 |            0.0000 |            0.0000 |    0.0000 |    0.0000 |    0.0000 |    0.0000 |\n",
      "| 24.0000 | HLNVNEED       |            0 |        6.5268 |            0.0000 |            0.0000 |    0.0000 |    0.0000 |    0.0000 |    0.0000 |\n",
      "| 25.0000 | HLNVSOR        |            0 |        6.5229 |            0.0000 |            0.0000 |    0.0000 |    0.0000 |    0.0000 |    0.0000 |\n",
      "| 27.0000 | IIMCDCHP       |            0 |        0.0998 |            0.0000 |            0.0000 |    0.0000 |    0.0000 |    0.0000 |    0.0000 |\n",
      "| 47.0000 | IIFAMSSI       |            0 |        0.1050 |            0.0000 |            0.0000 |    0.0000 |    0.0000 |    0.0000 |    0.0000 |\n",
      "| 29.0000 | IIMEDICR       |            0 |        0.0708 |            0.0000 |            0.0000 |    0.0000 |    0.0000 |    0.0000 |    0.0000 |\n",
      "| 30.0000 | IRCHMPUS       |            0 |        0.0927 |            0.0000 |            0.0000 |    0.0000 |    0.0000 |    0.0000 |    0.0000 |\n",
      "| 22.0000 | HLNVOFFR       |            0 |        6.5307 |            0.0000 |            0.0000 |    0.0000 |    0.0000 |    0.0000 |    0.0000 |\n",
      "| 31.0000 | IICHMPUS       |            0 |        0.0553 |            0.0000 |            0.0000 |    0.0000 |    0.0000 |    0.0000 |    0.0000 |\n",
      "| 33.0000 | IIPRVHLT       |            0 |        0.0821 |            0.0000 |            0.0000 |    0.0000 |    0.0000 |    0.0000 |    0.0000 |\n",
      "| 34.0000 | IROTHHLT       |            0 |       16.8471 |            0.0000 |            0.0000 |    0.0000 |    0.0000 |    0.0000 |    0.0000 |\n",
      "| 36.0000 | HLCALLFG       |            0 |        0.0000 |            0.0000 |            0.0000 |    0.0000 |    0.0000 |    0.0000 |    0.0000 |\n",
      "| 37.0000 | HLCALL99       |            0 |        0.0000 |            0.0000 |            0.0000 |    0.0000 |    0.0000 |    0.0000 |    0.0000 |\n",
      "| 38.0000 | ANYHLTI2       |            0 |        4.3851 |            0.0000 |            0.0000 |    0.0000 |    0.0000 |    0.0000 |    0.0000 |\n",
      "| 39.0000 | IRINSUR4       |            0 |        0.1551 |            0.0000 |            0.0000 |    0.0000 |    0.0000 |    0.0000 |    0.0000 |\n",
      "| 40.0000 | IIINSUR4       |            0 |        0.0931 |            0.0000 |            0.0000 |    0.0000 |    0.0000 |    0.0000 |    0.0000 |\n",
      "| 32.0000 | IRPRVHLT       |            0 |        0.2445 |            0.0000 |            0.0000 |    0.0000 |    0.0000 |    0.0000 |    0.0000 |\n",
      "| 20.0000 | HLLOSRSN       |            0 |       13.1424 |            0.0000 |            0.0000 |    0.0000 |    0.0000 |    0.0000 |    0.0000 |\n",
      "| 21.0000 | HLNVCOST       |            0 |        6.6087 |            0.0000 |            0.0000 |    0.0000 |    0.0000 |    0.0000 |    0.0000 |\n",
      "| 49.0000 | IIFSTAMP       |            0 |        0.0738 |            0.0000 |            0.0000 |    0.0000 |    0.0000 |    0.0000 |    0.0000 |\n",
      "| 67.0000 | AIIND102       |            0 |        0.0728 |            0.0000 |            0.0000 |    0.0000 |    0.0000 |    0.0000 |    0.0000 |\n",
      "| 66.0000 | MAIIN102       |            0 |        0.0728 |            0.0000 |            0.0000 |    0.0000 |    0.0000 |    0.0000 |    0.0000 |\n",
      "|  4.0000 | IIHHSIZ2       |            0 |        0.0209 |            0.0000 |            0.0000 |    0.0000 |    0.0000 |    0.0000 |    0.0000 |\n",
      "|  6.0000 | IIKI17_2       |            0 |        0.0626 |            0.0000 |            0.0000 |    0.0000 |    0.0000 |    0.0000 |    0.0000 |\n",
      "|  8.0000 | IIHH65_2       |            0 |        0.0652 |            0.0000 |            0.0000 |    0.0000 |    0.0000 |    0.0000 |    0.0000 |\n",
      "| 19.0000 | HLCLAST        |            0 |       14.6450 |            0.0000 |            0.0000 |    0.0000 |    0.0000 |    0.0000 |    0.0000 |\n",
      "| 53.0000 | IIFAMSVC       |            0 |        0.0692 |            0.0000 |            0.0000 |    0.0000 |    0.0000 |    0.0000 |    0.0000 |\n",
      "| 11.0000 | MEDICARE       |            0 |        3.2832 |            0.0000 |            0.0000 |    0.0000 |    0.0000 |    0.0000 |    0.0000 |\n",
      "| 43.0000 | CELLWRKNG      |            0 |        1.9751 |            0.0000 |            0.0000 |    0.0000 |    0.0000 |    0.0000 |    0.0000 |\n",
      "| 14.0000 | PRVHLTIN       |            0 |        3.8316 |            0.0000 |            0.0000 |    0.0000 |    0.0000 |    0.0000 |    0.0000 |\n",
      "| 51.0000 | IIFAMPMT       |            0 |        0.0847 |            0.0000 |            0.0000 |    0.0000 |    0.0000 |    0.0000 |    0.0000 |\n",
      "| 16.0000 | HLTINNOS       |            0 |       16.7018 |            0.0000 |            0.0000 |    0.0000 |    0.0000 |    0.0000 |    0.0000 |\n",
      "| 52.0000 | IRFAMSVC       |            0 |        0.0891 |            0.0000 |            0.0000 |    0.0000 |    0.0000 |    0.0000 |    0.0000 |\n",
      "| 46.0000 | IRFAMSSI       |            1 |        0.1268 |            0.0000 |            0.0000 |    0.0000 |    0.0000 |    0.0000 |    0.0000 |\n",
      "| 50.0000 | IRFAMPMT       |            1 |        0.0822 |            0.0000 |            0.0000 |    0.0000 |    0.0000 |    0.0000 |    0.0000 |\n",
      "|  2.0000 | NRCH17_2       |            1 |        0.4528 |            0.0000 |            0.0001 |    0.0000 |    0.0001 |    0.0000 |    0.0000 |\n",
      "| 13.0000 | CHAMPUS        |            2 |        2.5617 |            0.0016 |           -0.0001 |    0.0017 |    0.0001 |    0.0000 |    0.0000 |\n",
      "| 48.0000 | IRFSTAMP       |            2 |        0.1970 |            0.0000 |            0.0000 |    0.0000 |    0.0000 |    0.0000 |    0.0000 |\n",
      "| 54.0000 | IRWELMOS       |            2 |       10.1059 |           -0.0000 |            0.0000 |    0.0000 |    0.0000 |    0.0000 |    0.0000 |\n",
      "| 62.0000 | TOOLONG        |            3 |        2.4614 |            0.0006 |           -0.0001 |    0.0007 |    0.0001 |    0.0000 |    0.0000 |\n",
      "| 45.0000 | IIFAMSOC       |            3 |        0.0931 |            0.0000 |            0.0000 |    0.0000 |    0.0000 |    0.0000 |    0.0000 |\n",
      "| 58.0000 | IIPINC3        |            4 |        0.1735 |            0.0000 |            0.0000 |    0.0000 |    0.0000 |    0.0000 |    0.0000 |\n",
      "| 70.0000 | VEREP          |            4 |        0.2499 |            0.0000 |            0.0000 |    0.0000 |    0.0000 |    0.0000 |    0.0000 |\n",
      "| 10.0000 | PRXYDATA       |            4 |       22.2129 |           -0.0001 |           -0.0002 |    0.0001 |    0.0003 |    0.0000 |    0.0000 |\n",
      "| 41.0000 | OTHINS         |            4 |        0.1735 |            0.0000 |            0.0000 |    0.0000 |    0.0000 |    0.0000 |    0.0000 |\n",
      "| 26.0000 | IRMCDCHP       |            4 |        0.2112 |            0.0000 |            0.0000 |    0.0000 |    0.0000 |    0.0000 |    0.0000 |\n",
      "| 60.0000 | GOVTPROG       |            5 |        0.2113 |            0.0000 |            0.0000 |    0.0000 |    0.0000 |    0.0000 |    0.0000 |\n",
      "| 12.0000 | CAIDCHIP       |            5 |        4.5872 |           -0.0009 |            0.0001 |    0.0021 |    0.0002 |    0.0000 |    0.0000 |\n",
      "| 63.0000 | TROUBUND       |            5 |        2.4602 |            0.0054 |           -0.0005 |    0.0083 |    0.0007 |    0.0000 |    0.0000 |\n",
      "| 28.0000 | IRMEDICR       |            6 |        0.1360 |            0.0000 |            0.0000 |    0.0000 |    0.0000 |    0.0000 |    0.0000 |\n",
      "|  9.0000 | PRXRETRY       |            6 |        6.5898 |           -0.0116 |            0.0001 |    0.0119 |    0.0001 |    0.0000 |    0.0000 |\n",
      "| 59.0000 | IIFAMIN3       |            7 |        0.2946 |            0.0000 |            0.0000 |    0.0000 |    0.0000 |    0.0000 |    0.0000 |\n",
      "|  7.0000 | IRHH65_2       |            7 |        0.2269 |            0.0000 |            0.0000 |    0.0000 |    0.0000 |    0.0000 |    0.0000 |\n",
      "| 42.0000 | CELLNOTCL      |            7 |        2.3107 |            0.0010 |           -0.0007 |    0.0021 |    0.0013 |    0.0000 |    0.0000 |\n",
      "| 55.0000 | IIWELMOS       |            7 |        0.9196 |            0.0000 |            0.0000 |    0.0000 |    0.0000 |    0.0000 |    0.0000 |\n",
      "| 64.0000 | PDEN10         |            8 |        0.3078 |            0.0000 |            0.0000 |    0.0000 |    0.0000 |    0.0000 |    0.0000 |\n",
      "| 17.0000 | HLCNOTYR       |            9 |       15.5126 |           -0.0048 |            0.0003 |    0.0054 |    0.0004 |    0.0000 |    0.0000 |\n",
      "| 65.0000 | COUTYP2        |           10 |        0.3861 |            0.0000 |            0.0000 |    0.0000 |    0.0000 |    0.0000 |    0.0000 |\n",
      "|  5.0000 | IRKI17_2       |           13 |        0.5542 |           -0.0010 |            0.0010 |    0.0016 |    0.0026 |    0.0000 |    0.0000 |\n",
      "| 61.0000 | POVERTY3       |           14 |        0.4194 |            0.0000 |            0.0000 |    0.0000 |    0.0000 |    0.0000 |    0.0000 |\n",
      "|  1.0000 | IFATHER        |           14 |        0.5916 |            0.0398 |           -0.0000 |    0.0399 |    0.0000 |    0.0000 |    0.0000 |\n",
      "| 18.0000 | HLCNOTMO       |           14 |       11.8945 |            0.0001 |            0.0003 |    0.0003 |    0.0005 |    0.0000 |    0.0000 |\n",
      "| 44.0000 | IRFAMSOC       |           16 |        0.1809 |            0.0000 |            0.0000 |    0.0000 |    0.0000 |    0.0000 |    0.0000 |\n",
      "|  3.0000 | IRHHSIZ2       |           23 |        0.7165 |            0.0014 |           -0.0014 |    0.0016 |    0.0018 |    0.0000 |    0.0000 |\n",
      "| 56.0000 | IRPINC3        |           37 |        0.9890 |            0.0091 |           -0.0212 |    0.0106 |    0.0218 |    0.0000 |    0.0000 |\n",
      "| 69.0000 | VESTR          |           51 |        7.2928 |           -0.0006 |           -0.0005 |    0.0022 |    0.0030 |    0.0000 |    0.0000 |\n",
      "|  0.0000 | PERID          |           53 | 12762857.8498 |            0.0002 |            0.0000 |    0.0029 |    0.0033 |    0.0000 |    0.0000 |\n",
      "| 15.0000 | GRPHLTIN       |           53 |       23.9659 |            0.1313 |           -0.0010 |    0.1324 |    0.0074 |    0.0000 |    0.0000 |\n",
      "| 57.0000 | IRFAMIN3       |           55 |        1.0572 |            0.0365 |           -0.0201 |    0.0371 |    0.0208 |    0.0000 |    0.0000 |\n",
      "| 68.0000 | ANALWT_C       |           60 |     2801.8733 |           -0.0027 |            0.0022 |    0.0055 |    0.0048 |    0.0000 |    0.0000 |\n",
      "+---------+----------------+--------------+---------------+-------------------+-------------------+-----------+-----------+-----------+-----------+\n",
      "\n",
      "\n",
      "*******\n",
      "Legend:\n",
      "Importance = Feature Importance\n",
      "     Explanation: A weighted measure of how much of the variance the model is able to explain is due to this column\n",
      "FR_delta = Feature Response Delta Amount\n",
      "     Explanation: Amount this column was incremented or decremented by to calculate the feature reponses\n",
      "FR_Decrementing = Feature Response From Decrementing Values In This Column By One FR_delta\n",
      "     Explanation: Represents how much the predicted output values respond to subtracting one FR_delta amount from every value in this column\n",
      "FR_Incrementing = Feature Response From Incrementing Values In This Column By One FR_delta\n",
      "     Explanation: Represents how much the predicted output values respond to adding one FR_delta amount to every value in this column\n",
      "FRD_MAD = Feature Response From Decrementing- Median Absolute Delta\n",
      "     Explanation: Takes the absolute value of all changes in predictions, then takes the median of those. Useful for seeing if decrementing this feature provokes strong changes that are both positive and negative\n",
      "FRI_MAD = Feature Response From Incrementing- Median Absolute Delta\n",
      "     Explanation: Takes the absolute value of all changes in predictions, then takes the median of those. Useful for seeing if incrementing this feature provokes strong changes that are both positive and negative\n",
      "FRD_abs = Feature Response From Decrementing Avg Absolute Change\n",
      "     Explanation: What is the average absolute change in predicted output values to subtracting one FR_delta amount to every value in this column. Useful for seeing if output is sensitive to a feature, but not in a uniformly positive or negative way\n",
      "FRI_abs = Feature Response From Incrementing Avg Absolute Change\n",
      "     Explanation: What is the average absolute change in predicted output values to adding one FR_delta amount to every value in this column. Useful for seeing if output is sensitive to a feature, but not in a uniformly positive or negative way\n",
      "*******\n",
      "\n"
     ]
    },
    {
     "data": {
      "text/plain": [
       "<auto_ml.predictor.Predictor at 0x1cb3c7afe80>"
      ]
     },
     "execution_count": 7,
     "metadata": {},
     "output_type": "execute_result"
    }
   ],
   "source": [
    "column_descriptions = {\n",
    "  'Criminal': 'output'\n",
    "}\n",
    "training_params = {'n_estimators': 2000, 'learning_rate': 0.2, 'num_leaves': 14\n",
    "                   , 'lambda_l2': 0.001, 'histogram_pool_size': 16384}\n",
    "training_params2 = {'n_estimators': 2000, 'learning_rate': 0.2, 'num_leaves': 10, 'lambda_l2': 0.001, 'histogram_pool_size': 16384}\n",
    "ml_predictor = Predictor(type_of_estimator='classifier'\n",
    "                         , column_descriptions=column_descriptions)\n",
    "\n",
    "ml_predictor.train(train, model_names=['LGBMClassifier'], training_params=training_params)"
   ]
  },
  {
   "cell_type": "code",
   "execution_count": null,
   "metadata": {
    "collapsed": true
   },
   "outputs": [],
   "source": [
    "# test_score = ml_predictor.score(df_test, df_test.MEDV)"
   ]
  },
  {
   "cell_type": "code",
   "execution_count": 22,
   "metadata": {
    "scrolled": true
   },
   "outputs": [
    {
     "name": "stdout",
     "output_type": "stream",
     "text": [
      "0:\tlearn: 0.7023190\ttest: 0.6617284\tbest: 0.6617284 (0)\ttotal: 219ms\tremaining: 54.5s\n",
      "1:\tlearn: 0.7045010\ttest: 0.6658228\tbest: 0.6658228 (1)\ttotal: 287ms\tremaining: 35.6s\n",
      "2:\tlearn: 0.7045010\ttest: 0.6658228\tbest: 0.6658228 (2)\ttotal: 378ms\tremaining: 31.1s\n",
      "3:\tlearn: 0.7114527\ttest: 0.6743590\tbest: 0.6743590 (3)\ttotal: 447ms\tremaining: 27.5s\n",
      "4:\tlearn: 0.7095079\ttest: 0.6691729\tbest: 0.6743590 (3)\ttotal: 497ms\tremaining: 24.3s\n",
      "5:\tlearn: 0.7168737\ttest: 0.6729223\tbest: 0.6743590 (3)\ttotal: 513ms\tremaining: 20.9s\n",
      "6:\tlearn: 0.7177459\ttest: 0.6770833\tbest: 0.6770833 (6)\ttotal: 599ms\tremaining: 20.8s\n",
      "7:\tlearn: 0.7135851\ttest: 0.6649616\tbest: 0.6770833 (6)\ttotal: 690ms\tremaining: 20.9s\n",
      "8:\tlearn: 0.7105010\ttest: 0.6666667\tbest: 0.6770833 (6)\ttotal: 799ms\tremaining: 21.4s\n",
      "9:\tlearn: 0.7181409\ttest: 0.6692913\tbest: 0.6770833 (6)\ttotal: 816ms\tremaining: 19.6s\n",
      "10:\tlearn: 0.7172111\ttest: 0.6649746\tbest: 0.6770833 (6)\ttotal: 931ms\tremaining: 20.2s\n",
      "11:\tlearn: 0.7148325\ttest: 0.6649874\tbest: 0.6770833 (6)\ttotal: 988ms\tremaining: 19.6s\n",
      "12:\tlearn: 0.7116683\ttest: 0.6666667\tbest: 0.6770833 (6)\ttotal: 1.04s\tremaining: 19s\n",
      "13:\tlearn: 0.7107160\ttest: 0.6666667\tbest: 0.6770833 (6)\ttotal: 1.08s\tremaining: 18.2s\n",
      "14:\tlearn: 0.7111965\ttest: 0.6675063\tbest: 0.6770833 (6)\ttotal: 1.15s\tremaining: 17.9s\n",
      "15:\tlearn: 0.7116858\ttest: 0.6675063\tbest: 0.6770833 (6)\ttotal: 1.2s\tremaining: 17.6s\n",
      "16:\tlearn: 0.7136732\ttest: 0.6658291\tbest: 0.6770833 (6)\ttotal: 1.31s\tremaining: 17.9s\n",
      "17:\tlearn: 0.7121718\ttest: 0.6675063\tbest: 0.6770833 (6)\ttotal: 1.37s\tremaining: 17.7s\n",
      "18:\tlearn: 0.7121789\ttest: 0.6658291\tbest: 0.6770833 (6)\ttotal: 1.48s\tremaining: 18s\n",
      "19:\tlearn: 0.7115750\ttest: 0.6666667\tbest: 0.6770833 (6)\ttotal: 1.54s\tremaining: 17.7s\n",
      "20:\tlearn: 0.7125237\ttest: 0.6641604\tbest: 0.6770833 (6)\ttotal: 1.61s\tremaining: 17.5s\n",
      "21:\tlearn: 0.7123223\ttest: 0.6641604\tbest: 0.6770833 (6)\ttotal: 1.71s\tremaining: 17.7s\n",
      "22:\tlearn: 0.7125237\ttest: 0.6641604\tbest: 0.6770833 (6)\ttotal: 1.72s\tremaining: 17s\n",
      "23:\tlearn: 0.7134030\ttest: 0.6641604\tbest: 0.6770833 (6)\ttotal: 1.79s\tremaining: 16.8s\n",
      "24:\tlearn: 0.7136083\ttest: 0.6641604\tbest: 0.6770833 (6)\ttotal: 1.88s\tremaining: 16.9s\n",
      "25:\tlearn: 0.7142180\ttest: 0.6633166\tbest: 0.6770833 (6)\ttotal: 1.96s\tremaining: 16.9s\n",
      "26:\tlearn: 0.7150308\ttest: 0.6633166\tbest: 0.6770833 (6)\ttotal: 2.02s\tremaining: 16.7s\n",
      "27:\tlearn: 0.7157095\ttest: 0.6641604\tbest: 0.6770833 (6)\ttotal: 2.11s\tremaining: 16.7s\n",
      "28:\tlearn: 0.7149621\ttest: 0.6641604\tbest: 0.6770833 (6)\ttotal: 2.16s\tremaining: 16.5s\n",
      "29:\tlearn: 0.7153008\ttest: 0.6633166\tbest: 0.6770833 (6)\ttotal: 2.21s\tremaining: 16.2s\n",
      "30:\tlearn: 0.7164533\ttest: 0.6658291\tbest: 0.6770833 (6)\ttotal: 2.32s\tremaining: 16.4s\n",
      "31:\tlearn: 0.7162482\ttest: 0.6658291\tbest: 0.6770833 (6)\ttotal: 2.38s\tremaining: 16.3s\n",
      "32:\tlearn: 0.7163121\ttest: 0.6641604\tbest: 0.6770833 (6)\ttotal: 2.44s\tremaining: 16s\n",
      "33:\tlearn: 0.7169901\ttest: 0.6658291\tbest: 0.6770833 (6)\ttotal: 2.5s\tremaining: 15.9s\n",
      "34:\tlearn: 0.7173295\ttest: 0.6624685\tbest: 0.6770833 (6)\ttotal: 2.57s\tremaining: 15.8s\n",
      "35:\tlearn: 0.7169901\ttest: 0.6649874\tbest: 0.6770833 (6)\ttotal: 2.63s\tremaining: 15.6s\n",
      "36:\tlearn: 0.7171956\ttest: 0.6649874\tbest: 0.6770833 (6)\ttotal: 2.68s\tremaining: 15.4s\n",
      "37:\tlearn: 0.7174016\ttest: 0.6641414\tbest: 0.6770833 (6)\ttotal: 2.73s\tremaining: 15.2s\n",
      "38:\tlearn: 0.7174016\ttest: 0.6641414\tbest: 0.6770833 (6)\ttotal: 2.77s\tremaining: 15s\n",
      "39:\tlearn: 0.7175355\ttest: 0.6641414\tbest: 0.6770833 (6)\ttotal: 2.84s\tremaining: 14.9s\n",
      "40:\tlearn: 0.7171956\ttest: 0.6649874\tbest: 0.6770833 (6)\ttotal: 2.91s\tremaining: 14.8s\n",
      "41:\tlearn: 0.7171956\ttest: 0.6649874\tbest: 0.6770833 (6)\ttotal: 2.94s\tremaining: 14.6s\n",
      "42:\tlearn: 0.7171956\ttest: 0.6649874\tbest: 0.6770833 (6)\ttotal: 3.04s\tremaining: 14.6s\n",
      "43:\tlearn: 0.7176694\ttest: 0.6649874\tbest: 0.6770833 (6)\ttotal: 3.15s\tremaining: 14.8s\n",
      "44:\tlearn: 0.7178030\ttest: 0.6633166\tbest: 0.6770833 (6)\ttotal: 3.24s\tremaining: 14.8s\n",
      "45:\tlearn: 0.7180700\ttest: 0.6649874\tbest: 0.6770833 (6)\ttotal: 3.3s\tremaining: 14.7s\n",
      "46:\tlearn: 0.7179366\ttest: 0.6658291\tbest: 0.6770833 (6)\ttotal: 3.39s\tremaining: 14.7s\n",
      "47:\tlearn: 0.7177305\ttest: 0.6641604\tbest: 0.6770833 (6)\ttotal: 3.48s\tremaining: 14.6s\n",
      "48:\tlearn: 0.7182033\ttest: 0.6625000\tbest: 0.6770833 (6)\ttotal: 3.56s\tremaining: 14.6s\n",
      "49:\tlearn: 0.7185430\ttest: 0.6641604\tbest: 0.6770833 (6)\ttotal: 3.58s\tremaining: 14.3s\n",
      "50:\tlearn: 0.7184098\ttest: 0.6649874\tbest: 0.6770833 (6)\ttotal: 3.65s\tremaining: 14.3s\n",
      "51:\tlearn: 0.7187500\ttest: 0.6649874\tbest: 0.6770833 (6)\ttotal: 3.71s\tremaining: 14.1s\n",
      "52:\tlearn: 0.7187500\ttest: 0.6641414\tbest: 0.6770833 (6)\ttotal: 3.77s\tremaining: 14s\n",
      "53:\tlearn: 0.7187500\ttest: 0.6633166\tbest: 0.6770833 (6)\ttotal: 3.82s\tremaining: 13.9s\n",
      "54:\tlearn: 0.7190905\ttest: 0.6641414\tbest: 0.6770833 (6)\ttotal: 3.85s\tremaining: 13.7s\n",
      "55:\tlearn: 0.7187500\ttest: 0.6608040\tbest: 0.6770833 (6)\ttotal: 3.96s\tremaining: 13.7s\n",
      "56:\tlearn: 0.7190905\ttest: 0.6608040\tbest: 0.6770833 (6)\ttotal: 3.99s\tremaining: 13.5s\n",
      "57:\tlearn: 0.7194313\ttest: 0.6624685\tbest: 0.6770833 (6)\ttotal: 4.05s\tremaining: 13.4s\n",
      "58:\tlearn: 0.7197724\ttest: 0.6624685\tbest: 0.6770833 (6)\ttotal: 4.16s\tremaining: 13.5s\n",
      "59:\tlearn: 0.7198296\ttest: 0.6608040\tbest: 0.6770833 (6)\ttotal: 4.2s\tremaining: 13.3s\n",
      "60:\tlearn: 0.7194891\ttest: 0.6608040\tbest: 0.6770833 (6)\ttotal: 4.26s\tremaining: 13.2s\n",
      "61:\tlearn: 0.7196217\ttest: 0.6608040\tbest: 0.6770833 (6)\ttotal: 4.34s\tremaining: 13.2s\n",
      "62:\tlearn: 0.7196217\ttest: 0.6608040\tbest: 0.6770833 (6)\ttotal: 4.39s\tremaining: 13s\n",
      "63:\tlearn: 0.7200379\ttest: 0.6608040\tbest: 0.6770833 (6)\ttotal: 4.5s\tremaining: 13.1s\n",
      "64:\tlearn: 0.7202466\ttest: 0.6608040\tbest: 0.6770833 (6)\ttotal: 4.61s\tremaining: 13.1s\n",
      "65:\tlearn: 0.7205882\ttest: 0.6608040\tbest: 0.6770833 (6)\ttotal: 4.63s\tremaining: 12.9s\n",
      "66:\tlearn: 0.7206439\ttest: 0.6608040\tbest: 0.6770833 (6)\ttotal: 4.73s\tremaining: 12.9s\n",
      "67:\tlearn: 0.7206439\ttest: 0.6608040\tbest: 0.6770833 (6)\ttotal: 4.76s\tremaining: 12.7s\n",
      "68:\tlearn: 0.7211949\ttest: 0.6599496\tbest: 0.6770833 (6)\ttotal: 4.81s\tremaining: 12.6s\n",
      "69:\tlearn: 0.7215370\ttest: 0.6599496\tbest: 0.6770833 (6)\ttotal: 4.92s\tremaining: 12.6s\n",
      "70:\tlearn: 0.7225653\ttest: 0.6599496\tbest: 0.6770833 (6)\ttotal: 4.98s\tremaining: 12.5s\n",
      "71:\tlearn: 0.7229087\ttest: 0.6599496\tbest: 0.6770833 (6)\ttotal: 5.09s\tremaining: 12.6s\n",
      "72:\tlearn: 0.7242857\ttest: 0.6599496\tbest: 0.6770833 (6)\ttotal: 5.2s\tremaining: 12.6s\n",
      "73:\tlearn: 0.7239410\ttest: 0.6599496\tbest: 0.6770833 (6)\ttotal: 5.32s\tremaining: 12.6s\n",
      "74:\tlearn: 0.7242857\ttest: 0.6599496\tbest: 0.6770833 (6)\ttotal: 5.43s\tremaining: 12.7s\n",
      "75:\tlearn: 0.7241544\ttest: 0.6599496\tbest: 0.6770833 (6)\ttotal: 5.46s\tremaining: 12.5s\n",
      "76:\tlearn: 0.7244995\ttest: 0.6599496\tbest: 0.6770833 (6)\ttotal: 5.56s\tremaining: 12.5s\n",
      "77:\tlearn: 0.7243681\ttest: 0.6599496\tbest: 0.6770833 (6)\ttotal: 5.63s\tremaining: 12.4s\n",
      "78:\tlearn: 0.7251908\ttest: 0.6599496\tbest: 0.6770833 (6)\ttotal: 5.74s\tremaining: 12.4s\n",
      "79:\tlearn: 0.7250597\ttest: 0.6599496\tbest: 0.6770833 (6)\ttotal: 5.76s\tremaining: 12.3s\n",
      "80:\tlearn: 0.7250597\ttest: 0.6599496\tbest: 0.6770833 (6)\ttotal: 5.8s\tremaining: 12.1s\n",
      "81:\tlearn: 0.7250597\ttest: 0.6599496\tbest: 0.6770833 (6)\ttotal: 5.88s\tremaining: 12s\n",
      "82:\tlearn: 0.7250597\ttest: 0.6608040\tbest: 0.6770833 (6)\ttotal: 5.99s\tremaining: 12s\n",
      "83:\tlearn: 0.7254059\ttest: 0.6599496\tbest: 0.6770833 (6)\ttotal: 6.11s\tremaining: 12.1s\n",
      "84:\tlearn: 0.7252747\ttest: 0.6599496\tbest: 0.6770833 (6)\ttotal: 6.14s\tremaining: 11.9s\n",
      "85:\tlearn: 0.7253219\ttest: 0.6608040\tbest: 0.6770833 (6)\ttotal: 6.26s\tremaining: 11.9s\n",
      "86:\tlearn: 0.7248450\ttest: 0.6599496\tbest: 0.6770833 (6)\ttotal: 6.34s\tremaining: 11.9s\n",
      "87:\tlearn: 0.7248450\ttest: 0.6599496\tbest: 0.6770833 (6)\ttotal: 6.4s\tremaining: 11.8s\n",
      "88:\tlearn: 0.7248450\ttest: 0.6599496\tbest: 0.6770833 (6)\ttotal: 6.42s\tremaining: 11.6s\n",
      "89:\tlearn: 0.7248450\ttest: 0.6608040\tbest: 0.6770833 (6)\ttotal: 6.53s\tremaining: 11.6s\n",
      "90:\tlearn: 0.7253219\ttest: 0.6599496\tbest: 0.6770833 (6)\ttotal: 6.58s\tremaining: 11.5s\n",
      "91:\tlearn: 0.7249762\ttest: 0.6608040\tbest: 0.6770833 (6)\ttotal: 6.68s\tremaining: 11.5s\n",
      "92:\tlearn: 0.7253219\ttest: 0.6608040\tbest: 0.6770833 (6)\ttotal: 6.77s\tremaining: 11.4s\n",
      "93:\tlearn: 0.7253219\ttest: 0.6608040\tbest: 0.6770833 (6)\ttotal: 6.8s\tremaining: 11.3s\n",
      "94:\tlearn: 0.7251072\ttest: 0.6608040\tbest: 0.6770833 (6)\ttotal: 6.84s\tremaining: 11.2s\n",
      "95:\tlearn: 0.7246790\ttest: 0.6608040\tbest: 0.6770833 (6)\ttotal: 6.94s\tremaining: 11.1s\n"
     ]
    },
    {
     "name": "stdout",
     "output_type": "stream",
     "text": [
      "96:\tlearn: 0.7250238\ttest: 0.6608040\tbest: 0.6770833 (6)\ttotal: 7s\tremaining: 11s\n",
      "97:\tlearn: 0.7250238\ttest: 0.6608040\tbest: 0.6770833 (6)\ttotal: 7.04s\tremaining: 10.9s\n",
      "98:\tlearn: 0.7245480\ttest: 0.6608040\tbest: 0.6770833 (6)\ttotal: 7.12s\tremaining: 10.9s\n",
      "99:\tlearn: 0.7238593\ttest: 0.6608040\tbest: 0.6770833 (6)\ttotal: 7.23s\tremaining: 10.8s\n",
      "100:\tlearn: 0.7242035\ttest: 0.6608040\tbest: 0.6770833 (6)\ttotal: 7.27s\tremaining: 10.7s\n",
      "101:\tlearn: 0.7252852\ttest: 0.6608040\tbest: 0.6770833 (6)\ttotal: 7.38s\tremaining: 10.7s\n",
      "102:\tlearn: 0.7249406\ttest: 0.6608040\tbest: 0.6770833 (6)\ttotal: 7.43s\tremaining: 10.6s\n",
      "103:\tlearn: 0.7253321\ttest: 0.6608040\tbest: 0.6770833 (6)\ttotal: 7.54s\tremaining: 10.6s\n",
      "104:\tlearn: 0.7256763\ttest: 0.6608040\tbest: 0.6770833 (6)\ttotal: 7.59s\tremaining: 10.5s\n",
      "105:\tlearn: 0.7260209\ttest: 0.6591479\tbest: 0.6770833 (6)\ttotal: 7.7s\tremaining: 10.5s\n",
      "106:\tlearn: 0.7260209\ttest: 0.6591479\tbest: 0.6770833 (6)\ttotal: 7.72s\tremaining: 10.3s\n",
      "107:\tlearn: 0.7259365\ttest: 0.6600000\tbest: 0.6770833 (6)\ttotal: 7.83s\tremaining: 10.3s\n",
      "108:\tlearn: 0.7262808\ttest: 0.6600000\tbest: 0.6770833 (6)\ttotal: 7.94s\tremaining: 10.3s\n",
      "109:\tlearn: 0.7255924\ttest: 0.6600000\tbest: 0.6770833 (6)\ttotal: 7.98s\tremaining: 10.2s\n",
      "110:\tlearn: 0.7249881\ttest: 0.6600000\tbest: 0.6770833 (6)\ttotal: 8.09s\tremaining: 10.1s\n",
      "111:\tlearn: 0.7249881\ttest: 0.6600000\tbest: 0.6770833 (6)\ttotal: 8.15s\tremaining: 10s\n",
      "112:\tlearn: 0.7249881\ttest: 0.6600000\tbest: 0.6770833 (6)\ttotal: 8.21s\tremaining: 9.95s\n",
      "113:\tlearn: 0.7249881\ttest: 0.6600000\tbest: 0.6770833 (6)\ttotal: 8.28s\tremaining: 9.87s\n",
      "114:\tlearn: 0.7249881\ttest: 0.6616541\tbest: 0.6770833 (6)\ttotal: 8.34s\tremaining: 9.8s\n",
      "115:\tlearn: 0.7253788\ttest: 0.6616541\tbest: 0.6770833 (6)\ttotal: 8.4s\tremaining: 9.71s\n",
      "116:\tlearn: 0.7249053\ttest: 0.6608040\tbest: 0.6770833 (6)\ttotal: 8.46s\tremaining: 9.62s\n",
      "117:\tlearn: 0.7266698\ttest: 0.6591479\tbest: 0.6770833 (6)\ttotal: 8.58s\tremaining: 9.6s\n",
      "118:\tlearn: 0.7263258\ttest: 0.6591479\tbest: 0.6770833 (6)\ttotal: 8.63s\tremaining: 9.51s\n",
      "119:\tlearn: 0.7263258\ttest: 0.6591479\tbest: 0.6770833 (6)\ttotal: 8.68s\tremaining: 9.4s\n",
      "120:\tlearn: 0.7270142\ttest: 0.6591479\tbest: 0.6770833 (6)\ttotal: 8.78s\tremaining: 9.36s\n",
      "121:\tlearn: 0.7270142\ttest: 0.6591479\tbest: 0.6770833 (6)\ttotal: 8.84s\tremaining: 9.27s\n",
      "122:\tlearn: 0.7271435\ttest: 0.6591479\tbest: 0.6770833 (6)\ttotal: 8.87s\tremaining: 9.16s\n",
      "123:\tlearn: 0.7277462\ttest: 0.6600000\tbest: 0.6770833 (6)\ttotal: 8.97s\tremaining: 9.11s\n",
      "124:\tlearn: 0.7272727\ttest: 0.6608479\tbest: 0.6770833 (6)\ttotal: 9.07s\tremaining: 9.07s\n",
      "125:\tlearn: 0.7272727\ttest: 0.6608479\tbest: 0.6770833 (6)\ttotal: 9.13s\tremaining: 8.99s\n",
      "126:\tlearn: 0.7272727\ttest: 0.6608479\tbest: 0.6770833 (6)\ttotal: 9.21s\tremaining: 8.92s\n",
      "127:\tlearn: 0.7272727\ttest: 0.6608479\tbest: 0.6770833 (6)\ttotal: 9.28s\tremaining: 8.84s\n",
      "128:\tlearn: 0.7271435\ttest: 0.6616915\tbest: 0.6770833 (6)\ttotal: 9.32s\tremaining: 8.74s\n",
      "129:\tlearn: 0.7274018\ttest: 0.6608479\tbest: 0.6770833 (6)\ttotal: 9.44s\tremaining: 8.71s\n",
      "130:\tlearn: 0.7268431\ttest: 0.6616915\tbest: 0.6770833 (6)\ttotal: 9.54s\tremaining: 8.67s\n",
      "131:\tlearn: 0.7279169\ttest: 0.6616915\tbest: 0.6770833 (6)\ttotal: 9.59s\tremaining: 8.57s\n",
      "132:\tlearn: 0.7282609\ttest: 0.6616915\tbest: 0.6770833 (6)\ttotal: 9.62s\tremaining: 8.46s\n",
      "133:\tlearn: 0.7282609\ttest: 0.6616915\tbest: 0.6770833 (6)\ttotal: 9.66s\tremaining: 8.37s\n",
      "134:\tlearn: 0.7275732\ttest: 0.6608479\tbest: 0.6770833 (6)\ttotal: 9.71s\tremaining: 8.27s\n",
      "135:\tlearn: 0.7279169\ttest: 0.6616915\tbest: 0.6770833 (6)\ttotal: 9.81s\tremaining: 8.22s\n",
      "136:\tlearn: 0.7282609\ttest: 0.6625000\tbest: 0.6770833 (6)\ttotal: 9.91s\tremaining: 8.18s\n",
      "137:\tlearn: 0.7281737\ttest: 0.6633416\tbest: 0.6770833 (6)\ttotal: 10s\tremaining: 8.13s\n",
      "138:\tlearn: 0.7281737\ttest: 0.6633416\tbest: 0.6770833 (6)\ttotal: 10.1s\tremaining: 8.03s\n",
      "139:\tlearn: 0.7281737\ttest: 0.6633416\tbest: 0.6770833 (6)\ttotal: 10.2s\tremaining: 7.98s\n",
      "140:\tlearn: 0.7285175\ttest: 0.6625000\tbest: 0.6770833 (6)\ttotal: 10.3s\tremaining: 7.93s\n",
      "141:\tlearn: 0.7294618\ttest: 0.6633416\tbest: 0.6770833 (6)\ttotal: 10.4s\tremaining: 7.88s\n",
      "142:\tlearn: 0.7294618\ttest: 0.6633416\tbest: 0.6770833 (6)\ttotal: 10.5s\tremaining: 7.84s\n",
      "143:\tlearn: 0.7294618\ttest: 0.6633416\tbest: 0.6770833 (6)\ttotal: 10.6s\tremaining: 7.77s\n",
      "144:\tlearn: 0.7294618\ttest: 0.6625000\tbest: 0.6770833 (6)\ttotal: 10.6s\tremaining: 7.67s\n",
      "145:\tlearn: 0.7299339\ttest: 0.6616541\tbest: 0.6770833 (6)\ttotal: 10.7s\tremaining: 7.63s\n",
      "146:\tlearn: 0.7301887\ttest: 0.6625000\tbest: 0.6770833 (6)\ttotal: 10.8s\tremaining: 7.58s\n",
      "147:\tlearn: 0.7307511\ttest: 0.6633416\tbest: 0.6770833 (6)\ttotal: 10.9s\tremaining: 7.53s\n",
      "148:\tlearn: 0.7311321\ttest: 0.6641791\tbest: 0.6770833 (6)\ttotal: 11s\tremaining: 7.47s\n",
      "149:\tlearn: 0.7311321\ttest: 0.6641791\tbest: 0.6770833 (6)\ttotal: 11.1s\tremaining: 7.4s\n",
      "150:\tlearn: 0.7309142\ttest: 0.6633416\tbest: 0.6770833 (6)\ttotal: 11.1s\tremaining: 7.31s\n",
      "151:\tlearn: 0.7310410\ttest: 0.6650124\tbest: 0.6770833 (6)\ttotal: 11.2s\tremaining: 7.23s\n",
      "152:\tlearn: 0.7310410\ttest: 0.6641791\tbest: 0.6770833 (6)\ttotal: 11.3s\tremaining: 7.16s\n",
      "153:\tlearn: 0.7311676\ttest: 0.6641791\tbest: 0.6770833 (6)\ttotal: 11.3s\tremaining: 7.07s\n",
      "154:\tlearn: 0.7315120\ttest: 0.6633416\tbest: 0.6770833 (6)\ttotal: 11.4s\tremaining: 6.99s\n",
      "155:\tlearn: 0.7318567\ttest: 0.6633416\tbest: 0.6770833 (6)\ttotal: 11.5s\tremaining: 6.94s\n",
      "156:\tlearn: 0.7318567\ttest: 0.6633416\tbest: 0.6770833 (6)\ttotal: 11.5s\tremaining: 6.83s\n",
      "157:\tlearn: 0.7315120\ttest: 0.6633416\tbest: 0.6770833 (6)\ttotal: 11.6s\tremaining: 6.73s\n",
      "158:\tlearn: 0.7315120\ttest: 0.6633416\tbest: 0.6770833 (6)\ttotal: 11.6s\tremaining: 6.64s\n",
      "159:\tlearn: 0.7318567\ttest: 0.6625000\tbest: 0.6770833 (6)\ttotal: 11.7s\tremaining: 6.57s\n",
      "160:\tlearn: 0.7318567\ttest: 0.6625000\tbest: 0.6770833 (6)\ttotal: 11.7s\tremaining: 6.47s\n",
      "161:\tlearn: 0.7318567\ttest: 0.6625000\tbest: 0.6770833 (6)\ttotal: 11.7s\tremaining: 6.37s\n",
      "162:\tlearn: 0.7311676\ttest: 0.6633416\tbest: 0.6770833 (6)\ttotal: 11.8s\tremaining: 6.32s\n",
      "163:\tlearn: 0.7315120\ttest: 0.6633416\tbest: 0.6770833 (6)\ttotal: 11.9s\tremaining: 6.25s\n",
      "164:\tlearn: 0.7308235\ttest: 0.6633416\tbest: 0.6770833 (6)\ttotal: 12s\tremaining: 6.2s\n",
      "165:\tlearn: 0.7308235\ttest: 0.6633416\tbest: 0.6770833 (6)\ttotal: 12.1s\tremaining: 6.12s\n",
      "166:\tlearn: 0.7308235\ttest: 0.6650124\tbest: 0.6770833 (6)\ttotal: 12.2s\tremaining: 6.06s\n",
      "167:\tlearn: 0.7309501\ttest: 0.6641791\tbest: 0.6770833 (6)\ttotal: 12.2s\tremaining: 5.97s\n",
      "168:\tlearn: 0.7310766\ttest: 0.6641791\tbest: 0.6770833 (6)\ttotal: 12.3s\tremaining: 5.9s\n",
      "169:\tlearn: 0.7321092\ttest: 0.6650124\tbest: 0.6770833 (6)\ttotal: 12.3s\tremaining: 5.81s\n",
      "170:\tlearn: 0.7324541\ttest: 0.6650124\tbest: 0.6770833 (6)\ttotal: 12.4s\tremaining: 5.72s\n",
      "171:\tlearn: 0.7326733\ttest: 0.6641791\tbest: 0.6770833 (6)\ttotal: 12.5s\tremaining: 5.66s\n",
      "172:\tlearn: 0.7318567\ttest: 0.6641791\tbest: 0.6770833 (6)\ttotal: 12.6s\tremaining: 5.6s\n",
      "173:\tlearn: 0.7329251\ttest: 0.6650124\tbest: 0.6770833 (6)\ttotal: 12.7s\tremaining: 5.55s\n",
      "174:\tlearn: 0.7329251\ttest: 0.6650124\tbest: 0.6770833 (6)\ttotal: 12.7s\tremaining: 5.46s\n",
      "175:\tlearn: 0.7331765\ttest: 0.6641791\tbest: 0.6770833 (6)\ttotal: 12.9s\tremaining: 5.4s\n",
      "176:\tlearn: 0.7326128\ttest: 0.6641791\tbest: 0.6770833 (6)\ttotal: 12.9s\tremaining: 5.32s\n",
      "177:\tlearn: 0.7323944\ttest: 0.6650124\tbest: 0.6770833 (6)\ttotal: 13s\tremaining: 5.25s\n",
      "178:\tlearn: 0.7329892\ttest: 0.6650124\tbest: 0.6770833 (6)\ttotal: 13.1s\tremaining: 5.19s\n",
      "179:\tlearn: 0.7327707\ttest: 0.6650124\tbest: 0.6770833 (6)\ttotal: 13.1s\tremaining: 5.11s\n",
      "180:\tlearn: 0.7328960\ttest: 0.6650124\tbest: 0.6770833 (6)\ttotal: 13.2s\tremaining: 5.05s\n",
      "181:\tlearn: 0.7325527\ttest: 0.6650124\tbest: 0.6770833 (6)\ttotal: 13.3s\tremaining: 4.98s\n",
      "182:\tlearn: 0.7325527\ttest: 0.6650124\tbest: 0.6770833 (6)\ttotal: 13.4s\tremaining: 4.89s\n",
      "183:\tlearn: 0.7324274\ttest: 0.6650124\tbest: 0.6770833 (6)\ttotal: 13.4s\tremaining: 4.8s\n",
      "184:\tlearn: 0.7336778\ttest: 0.6650124\tbest: 0.6770833 (6)\ttotal: 13.5s\tremaining: 4.74s\n",
      "185:\tlearn: 0.7336778\ttest: 0.6650124\tbest: 0.6770833 (6)\ttotal: 13.5s\tremaining: 4.65s\n",
      "186:\tlearn: 0.7336778\ttest: 0.6650124\tbest: 0.6770833 (6)\ttotal: 13.6s\tremaining: 4.58s\n",
      "187:\tlearn: 0.7338028\ttest: 0.6650124\tbest: 0.6770833 (6)\ttotal: 13.7s\tremaining: 4.51s\n",
      "188:\tlearn: 0.7333333\ttest: 0.6650124\tbest: 0.6770833 (6)\ttotal: 13.7s\tremaining: 4.43s\n",
      "189:\tlearn: 0.7342723\ttest: 0.6650124\tbest: 0.6770833 (6)\ttotal: 13.8s\tremaining: 4.37s\n",
      "190:\tlearn: 0.7344925\ttest: 0.6650124\tbest: 0.6770833 (6)\ttotal: 13.9s\tremaining: 4.3s\n",
      "191:\tlearn: 0.7341475\ttest: 0.6650124\tbest: 0.6770833 (6)\ttotal: 14s\tremaining: 4.22s\n",
      "192:\tlearn: 0.7341475\ttest: 0.6650124\tbest: 0.6770833 (6)\ttotal: 14s\tremaining: 4.13s\n"
     ]
    },
    {
     "name": "stdout",
     "output_type": "stream",
     "text": [
      "193:\tlearn: 0.7354597\ttest: 0.6650124\tbest: 0.6770833 (6)\ttotal: 14.1s\tremaining: 4.06s\n",
      "194:\tlearn: 0.7366197\ttest: 0.6650124\tbest: 0.6770833 (6)\ttotal: 14.2s\tremaining: 4s\n",
      "195:\tlearn: 0.7363977\ttest: 0.6641791\tbest: 0.6770833 (6)\ttotal: 14.3s\tremaining: 3.93s\n",
      "196:\tlearn: 0.7360525\ttest: 0.6641791\tbest: 0.6770833 (6)\ttotal: 14.3s\tremaining: 3.85s\n",
      "197:\tlearn: 0.7362998\ttest: 0.6650124\tbest: 0.6770833 (6)\ttotal: 14.4s\tremaining: 3.79s\n",
      "198:\tlearn: 0.7371134\ttest: 0.6658416\tbest: 0.6770833 (6)\ttotal: 14.5s\tremaining: 3.71s\n",
      "199:\tlearn: 0.7370145\ttest: 0.6658416\tbest: 0.6770833 (6)\ttotal: 14.6s\tremaining: 3.65s\n",
      "200:\tlearn: 0.7371375\ttest: 0.6658416\tbest: 0.6770833 (6)\ttotal: 14.7s\tremaining: 3.57s\n",
      "201:\tlearn: 0.7370145\ttest: 0.6658416\tbest: 0.6770833 (6)\ttotal: 14.8s\tremaining: 3.51s\n",
      "202:\tlearn: 0.7373596\ttest: 0.6658416\tbest: 0.6770833 (6)\ttotal: 14.9s\tremaining: 3.45s\n",
      "203:\tlearn: 0.7378505\ttest: 0.6641975\tbest: 0.6770833 (6)\ttotal: 15s\tremaining: 3.38s\n",
      "204:\tlearn: 0.7378505\ttest: 0.6641975\tbest: 0.6770833 (6)\ttotal: 15s\tremaining: 3.3s\n",
      "205:\tlearn: 0.7380952\ttest: 0.6641975\tbest: 0.6770833 (6)\ttotal: 15.1s\tremaining: 3.23s\n",
      "206:\tlearn: 0.7390289\ttest: 0.6641975\tbest: 0.6770833 (6)\ttotal: 15.3s\tremaining: 3.17s\n",
      "207:\tlearn: 0.7390289\ttest: 0.6641975\tbest: 0.6770833 (6)\ttotal: 15.3s\tremaining: 3.09s\n",
      "208:\tlearn: 0.7390289\ttest: 0.6641975\tbest: 0.6770833 (6)\ttotal: 15.4s\tremaining: 3.02s\n",
      "209:\tlearn: 0.7390289\ttest: 0.6641975\tbest: 0.6770833 (6)\ttotal: 15.4s\tremaining: 2.94s\n",
      "210:\tlearn: 0.7390289\ttest: 0.6641975\tbest: 0.6770833 (6)\ttotal: 15.5s\tremaining: 2.87s\n",
      "211:\tlearn: 0.7391709\ttest: 0.6641975\tbest: 0.6770833 (6)\ttotal: 15.6s\tremaining: 2.8s\n",
      "212:\tlearn: 0.7389071\ttest: 0.6641975\tbest: 0.6770833 (6)\ttotal: 15.7s\tremaining: 2.73s\n",
      "213:\tlearn: 0.7390494\ttest: 0.6641975\tbest: 0.6770833 (6)\ttotal: 15.8s\tremaining: 2.66s\n",
      "214:\tlearn: 0.7389277\ttest: 0.6641975\tbest: 0.6770833 (6)\ttotal: 15.9s\tremaining: 2.59s\n",
      "215:\tlearn: 0.7392924\ttest: 0.6641975\tbest: 0.6770833 (6)\ttotal: 16s\tremaining: 2.52s\n",
      "216:\tlearn: 0.7389483\ttest: 0.6641975\tbest: 0.6770833 (6)\ttotal: 16.1s\tremaining: 2.44s\n",
      "217:\tlearn: 0.7397959\ttest: 0.6641975\tbest: 0.6770833 (6)\ttotal: 16.2s\tremaining: 2.37s\n",
      "218:\tlearn: 0.7396752\ttest: 0.6641975\tbest: 0.6770833 (6)\ttotal: 16.2s\tremaining: 2.3s\n",
      "219:\tlearn: 0.7395543\ttest: 0.6641975\tbest: 0.6770833 (6)\ttotal: 16.3s\tremaining: 2.22s\n",
      "220:\tlearn: 0.7398978\ttest: 0.6641975\tbest: 0.6770833 (6)\ttotal: 16.4s\tremaining: 2.15s\n",
      "221:\tlearn: 0.7398978\ttest: 0.6641975\tbest: 0.6770833 (6)\ttotal: 16.4s\tremaining: 2.07s\n",
      "222:\tlearn: 0.7398978\ttest: 0.6641975\tbest: 0.6770833 (6)\ttotal: 16.4s\tremaining: 1.99s\n",
      "223:\tlearn: 0.7402597\ttest: 0.6641975\tbest: 0.6770833 (6)\ttotal: 16.5s\tremaining: 1.91s\n",
      "224:\tlearn: 0.7401392\ttest: 0.6625616\tbest: 0.6770833 (6)\ttotal: 16.5s\tremaining: 1.84s\n",
      "225:\tlearn: 0.7397959\ttest: 0.6625616\tbest: 0.6770833 (6)\ttotal: 16.6s\tremaining: 1.77s\n",
      "226:\tlearn: 0.7400371\ttest: 0.6633907\tbest: 0.6770833 (6)\ttotal: 16.7s\tremaining: 1.7s\n",
      "227:\tlearn: 0.7407236\ttest: 0.6633907\tbest: 0.6770833 (6)\ttotal: 16.8s\tremaining: 1.63s\n",
      "228:\tlearn: 0.7408438\ttest: 0.6633907\tbest: 0.6770833 (6)\ttotal: 17s\tremaining: 1.55s\n",
      "229:\tlearn: 0.7407236\ttest: 0.6633907\tbest: 0.6770833 (6)\ttotal: 17s\tremaining: 1.48s\n",
      "230:\tlearn: 0.7405005\ttest: 0.6633907\tbest: 0.6770833 (6)\ttotal: 17.1s\tremaining: 1.41s\n",
      "231:\tlearn: 0.7413235\ttest: 0.6601467\tbest: 0.6770833 (6)\ttotal: 17.2s\tremaining: 1.33s\n",
      "232:\tlearn: 0.7406380\ttest: 0.6601467\tbest: 0.6770833 (6)\ttotal: 17.3s\tremaining: 1.26s\n",
      "233:\tlearn: 0.7406380\ttest: 0.6601467\tbest: 0.6770833 (6)\ttotal: 17.4s\tremaining: 1.19s\n",
      "234:\tlearn: 0.7407579\ttest: 0.6609756\tbest: 0.6770833 (6)\ttotal: 17.5s\tremaining: 1.11s\n",
      "235:\tlearn: 0.7411168\ttest: 0.6609756\tbest: 0.6770833 (6)\ttotal: 17.6s\tremaining: 1.04s\n",
      "236:\tlearn: 0.7411168\ttest: 0.6609756\tbest: 0.6770833 (6)\ttotal: 17.7s\tremaining: 969ms\n",
      "237:\tlearn: 0.7411168\ttest: 0.6609756\tbest: 0.6770833 (6)\ttotal: 17.7s\tremaining: 894ms\n",
      "238:\tlearn: 0.7409972\ttest: 0.6625917\tbest: 0.6770833 (6)\ttotal: 17.8s\tremaining: 820ms\n",
      "239:\tlearn: 0.7413395\ttest: 0.6625917\tbest: 0.6770833 (6)\ttotal: 17.9s\tremaining: 747ms\n",
      "240:\tlearn: 0.7426063\ttest: 0.6617647\tbest: 0.6770833 (6)\ttotal: 18s\tremaining: 674ms\n",
      "241:\tlearn: 0.7422633\ttest: 0.6617647\tbest: 0.6770833 (6)\ttotal: 18.1s\tremaining: 598ms\n",
      "242:\tlearn: 0.7427252\ttest: 0.6625917\tbest: 0.6770833 (6)\ttotal: 18.2s\tremaining: 524ms\n",
      "243:\tlearn: 0.7427252\ttest: 0.6609756\tbest: 0.6770833 (6)\ttotal: 18.2s\tremaining: 448ms\n",
      "244:\tlearn: 0.7435305\ttest: 0.6601467\tbest: 0.6770833 (6)\ttotal: 18.3s\tremaining: 374ms\n",
      "245:\tlearn: 0.7434119\ttest: 0.6601467\tbest: 0.6770833 (6)\ttotal: 18.4s\tremaining: 299ms\n",
      "246:\tlearn: 0.7434119\ttest: 0.6601467\tbest: 0.6770833 (6)\ttotal: 18.5s\tremaining: 225ms\n",
      "247:\tlearn: 0.7434119\ttest: 0.6601467\tbest: 0.6770833 (6)\ttotal: 18.5s\tremaining: 150ms\n",
      "248:\tlearn: 0.7430684\ttest: 0.6601467\tbest: 0.6770833 (6)\ttotal: 18.6s\tremaining: 74.9ms\n",
      "249:\tlearn: 0.7438742\ttest: 0.6601467\tbest: 0.6770833 (6)\ttotal: 18.7s\tremaining: 0us\n",
      "\n",
      "bestTest = 0.6770833333\n",
      "bestIteration = 6\n",
      "\n"
     ]
    },
    {
     "data": {
      "text/plain": [
       "<catboost.core.CatBoostClassifier at 0x1cb3cbc4978>"
      ]
     },
     "execution_count": 22,
     "metadata": {},
     "output_type": "execute_result"
    }
   ],
   "source": [
    "model_simple = CatBoostClassifier(\n",
    "    eval_metric='Precision',\n",
    "    depth=10,\n",
    "    iterations=250,\n",
    "    random_seed=42,\n",
    "    use_best_model=False\n",
    ")\n",
    "model_simple.fit(\n",
    "    X_train, y_train,\n",
    "    cat_features=[],\n",
    "    eval_set=(X_validation, y_validation),\n",
    ")"
   ]
  },
  {
   "cell_type": "code",
   "execution_count": null,
   "metadata": {},
   "outputs": [
    {
     "name": "stdout",
     "output_type": "stream",
     "text": [
      "[LibSVM]"
     ]
    }
   ],
   "source": [
    "parameters = {'kernel':('poly', 'rbf'), 'C':[1, 10]}\n",
    "svc = svm.SVC()\n",
    "clf = GridSearchCV(svc, parameters)\n",
    "# model = SVC(C=10, kernel='poly', degree=4, verbose=True)\n",
    "clf.fit(X_train, y_train)\n",
    "model = clf.estimator"
   ]
  },
  {
   "cell_type": "code",
   "execution_count": 55,
   "metadata": {},
   "outputs": [
    {
     "name": "stdout",
     "output_type": "stream",
     "text": [
      "precision score  0.6161369193154034\n"
     ]
    },
    {
     "name": "stderr",
     "output_type": "stream",
     "text": [
      "[Parallel(n_jobs=1)]: Done  50 out of  50 | elapsed:    1.3s finished\n",
      "[Parallel(n_jobs=1)]: Done  50 out of  50 | elapsed:    0.0s finished\n",
      "[Parallel(n_jobs=1)]: Done  50 out of  50 | elapsed:    0.0s finished\n"
     ]
    }
   ],
   "source": [
    "model = ExtraTreesClassifier(n_estimators=50, criterion='gini', verbose=1)\n",
    "model.fit(X_train, y_train)\n",
    "y_pred = model.predict(X_validation)\n",
    "print('precision score ', precision_score(y_validation, y_pred))\n",
    "create_submission(model.predict(y), 'extra_tree_sub1.csv')"
   ]
  },
  {
   "cell_type": "code",
   "execution_count": 24,
   "metadata": {
    "collapsed": true
   },
   "outputs": [],
   "source": [
    "predicted = model_simple.predict(y)"
   ]
  },
  {
   "cell_type": "code",
   "execution_count": 10,
   "metadata": {
    "collapsed": true
   },
   "outputs": [],
   "source": [
    "predicted = model.predict(y)"
   ]
  },
  {
   "cell_type": "code",
   "execution_count": 8,
   "metadata": {
    "collapsed": true
   },
   "outputs": [],
   "source": [
    "predicted = ml_predictor.predict(test)"
   ]
  },
  {
   "cell_type": "code",
   "execution_count": 23,
   "metadata": {
    "collapsed": true
   },
   "outputs": [],
   "source": [
    "# for predict_proba predictions\n",
    "predicted = model_simple.predict_proba(test)\n",
    "sub2 = pd.DataFrame({'PERID':test.PERID, 'Criminal':predicted[:,1]})\n",
    "sub2 = sub2[['PERID', 'Criminal']]\n",
    "sub2.to_csv('submissions/catboost_sub_1.csv', index=False)"
   ]
  },
  {
   "cell_type": "code",
   "execution_count": 9,
   "metadata": {
    "collapsed": true
   },
   "outputs": [],
   "source": [
    "def create_submission(predicted, filename):\n",
    "    sub2 = pd.DataFrame({'PERID':test.PERID, 'Criminal':[int(i) for i in predicted]})\n",
    "    sub2 = sub2[['PERID', 'Criminal']]\n",
    "    filepath = 'submissions/'+filename\n",
    "    sub2.to_csv(filepath, index=False)"
   ]
  },
  {
   "cell_type": "code",
   "execution_count": 28,
   "metadata": {},
   "outputs": [
    {
     "data": {
      "text/plain": [
       "array([0., 0., 0., 0., 0., 0., 0., 0., 0., 0., 0., 0., 0., 0., 0., 0., 0.,\n",
       "       0., 0., 0., 0., 0., 0., 0., 1., 0., 0., 0., 0., 1., 0., 1., 0., 1.,\n",
       "       0., 0., 0., 0., 0., 0., 0., 0., 0., 0., 0., 0., 0., 0., 0., 0., 0.,\n",
       "       0., 0., 1., 0., 0., 0., 0., 0., 0., 0., 0., 1., 0., 1., 0., 0., 0.,\n",
       "       0., 0., 0., 0., 0., 0., 0., 0., 0., 0., 0., 0., 0., 0., 0., 0., 0.,\n",
       "       0., 0., 0., 0., 0., 0., 0., 0., 0., 0., 0., 0., 0., 0., 0.])"
      ]
     },
     "execution_count": 28,
     "metadata": {},
     "output_type": "execute_result"
    }
   ],
   "source": [
    "predicted[:100]"
   ]
  },
  {
   "cell_type": "code",
   "execution_count": 12,
   "metadata": {},
   "outputs": [
    {
     "data": {
      "text/plain": [
       "9"
      ]
     },
     "execution_count": 12,
     "metadata": {},
     "output_type": "execute_result"
    }
   ],
   "source": [
    "predicted.sum()"
   ]
  },
  {
   "cell_type": "code",
   "execution_count": null,
   "metadata": {
    "collapsed": true
   },
   "outputs": [],
   "source": []
  }
 ],
 "metadata": {
  "kernelspec": {
   "display_name": "Python 3",
   "language": "python",
   "name": "python3"
  },
  "language_info": {
   "codemirror_mode": {
    "name": "ipython",
    "version": 3
   },
   "file_extension": ".py",
   "mimetype": "text/x-python",
   "name": "python",
   "nbconvert_exporter": "python",
   "pygments_lexer": "ipython3",
   "version": "3.6.3"
  }
 },
 "nbformat": 4,
 "nbformat_minor": 2
}
